{
 "cells": [
  {
   "cell_type": "markdown",
   "metadata": {},
   "source": [
    "# Breast Cancer Example\n",
    "\n",
    "This notebook will show some basic use cases for how Aladdin can be used as a feature store.\n",
    "\n",
    "This is based on a classic dataset for detecting breast cancer.\n",
    "We will try to walk through a potential thought process.\n",
    "\n",
    "## Scenario\n",
    "We have been given a dataset of breast cancer scans, and want to see if we can detect malignant cancer cells.\n",
    "\n",
    "### Load the feature store\n",
    "First thing we need is to load the feature store. This can be done by referencing a local file, a remote file, which we will be doing using the [aladdin-example repo](https://raw.githubusercontent.com/otovo/aladdin-example/main/feature-store.json). But it can also be referencing a private S3 bucket, or a more developer friendly autogeneration by reading the feature views from the current directory. This can be done by running `FeatureStore.from_dir()`.\n",
    "\n",
    "Let's see how it can be done."
   ]
  },
  {
   "cell_type": "code",
   "execution_count": 4,
   "metadata": {},
   "outputs": [
    {
     "ename": "ValueError",
     "evalue": "mutable default <class 'dict'> for field tags is not allowed: use default_factory",
     "output_type": "error",
     "traceback": [
      "\u001b[0;31m---------------------------------------------------------------------------\u001b[0m",
      "\u001b[0;31mValueError\u001b[0m                                Traceback (most recent call last)",
      "\u001b[1;32m/Users/matsmollestad/Desktop/PersonalProj/aladdin-2.0/example/example.ipynb Cell 2\u001b[0m in \u001b[0;36m<cell line: 1>\u001b[0;34m()\u001b[0m\n\u001b[0;32m----> <a href='vscode-notebook-cell:/Users/matsmollestad/Desktop/PersonalProj/aladdin-2.0/example/example.ipynb#ch0000001?line=0'>1</a>\u001b[0m \u001b[39mfrom\u001b[39;00m \u001b[39maladdin\u001b[39;00m \u001b[39mimport\u001b[39;00m FeatureStore, FileSource\n",
      "File \u001b[0;32m~/.virtualenvs/feature-store/lib/python3.10/site-packages/aladdin/__init__.py:1\u001b[0m, in \u001b[0;36m<module>\u001b[0;34m\u001b[0m\n\u001b[0;32m----> 1\u001b[0m \u001b[39mfrom\u001b[39;00m \u001b[39maladdin\u001b[39;00m\u001b[39m.\u001b[39;00m\u001b[39mfeature_store\u001b[39;00m \u001b[39mimport\u001b[39;00m FeatureStore\n\u001b[1;32m      2\u001b[0m \u001b[39mfrom\u001b[39;00m \u001b[39maladdin\u001b[39;00m\u001b[39m.\u001b[39;00m\u001b[39mfeature_types\u001b[39;00m \u001b[39mimport\u001b[39;00m (\n\u001b[1;32m      3\u001b[0m     UUID,\n\u001b[1;32m      4\u001b[0m     Bool,\n\u001b[0;32m   (...)\u001b[0m\n\u001b[1;32m     18\u001b[0m     TimeDifferance,\n\u001b[1;32m     19\u001b[0m )\n\u001b[1;32m     20\u001b[0m \u001b[39mfrom\u001b[39;00m \u001b[39maladdin\u001b[39;00m\u001b[39m.\u001b[39;00m\u001b[39mfeature_view\u001b[39;00m\u001b[39m.\u001b[39;00m\u001b[39mcombined_view\u001b[39;00m \u001b[39mimport\u001b[39;00m CombinedFeatureView, CombinedFeatureViewMetadata\n",
      "File \u001b[0;32m~/.virtualenvs/feature-store/lib/python3.10/site-packages/aladdin/feature_store.py:15\u001b[0m, in \u001b[0;36m<module>\u001b[0;34m\u001b[0m\n\u001b[1;32m      8\u001b[0m \u001b[39mfrom\u001b[39;00m \u001b[39maladdin\u001b[39;00m\u001b[39m.\u001b[39;00m\u001b[39menricher\u001b[39;00m \u001b[39mimport\u001b[39;00m Enricher\n\u001b[1;32m      9\u001b[0m \u001b[39mfrom\u001b[39;00m \u001b[39maladdin\u001b[39;00m\u001b[39m.\u001b[39;00m\u001b[39mfeature_source\u001b[39;00m \u001b[39mimport\u001b[39;00m (\n\u001b[1;32m     10\u001b[0m     BatchFeatureSource,\n\u001b[1;32m     11\u001b[0m     FeatureSource,\n\u001b[1;32m     12\u001b[0m     RangeFeatureSource,\n\u001b[1;32m     13\u001b[0m     WritableFeatureSource,\n\u001b[1;32m     14\u001b[0m )\n\u001b[0;32m---> 15\u001b[0m \u001b[39mfrom\u001b[39;00m \u001b[39maladdin\u001b[39;00m\u001b[39m.\u001b[39;00m\u001b[39mfeature_view\u001b[39;00m\u001b[39m.\u001b[39;00m\u001b[39mcombined_view\u001b[39;00m \u001b[39mimport\u001b[39;00m CombinedFeatureView, CompiledCombinedFeatureView\n\u001b[1;32m     16\u001b[0m \u001b[39mfrom\u001b[39;00m \u001b[39maladdin\u001b[39;00m\u001b[39m.\u001b[39;00m\u001b[39mfeature_view\u001b[39;00m\u001b[39m.\u001b[39;00m\u001b[39mcompiled_feature_view\u001b[39;00m \u001b[39mimport\u001b[39;00m CompiledFeatureView\n\u001b[1;32m     17\u001b[0m \u001b[39mfrom\u001b[39;00m \u001b[39maladdin\u001b[39;00m\u001b[39m.\u001b[39;00m\u001b[39mfeature_view\u001b[39;00m\u001b[39m.\u001b[39;00m\u001b[39mfeature_view\u001b[39;00m \u001b[39mimport\u001b[39;00m FeatureView\n",
      "File \u001b[0;32m~/.virtualenvs/feature-store/lib/python3.10/site-packages/aladdin/feature_view/combined_view.py:8\u001b[0m, in \u001b[0;36m<module>\u001b[0;34m\u001b[0m\n\u001b[1;32m      6\u001b[0m \u001b[39mfrom\u001b[39;00m \u001b[39maladdin\u001b[39;00m\u001b[39m.\u001b[39;00m\u001b[39mderivied_feature\u001b[39;00m \u001b[39mimport\u001b[39;00m DerivedFeature\n\u001b[1;32m      7\u001b[0m \u001b[39mfrom\u001b[39;00m \u001b[39maladdin\u001b[39;00m\u001b[39m.\u001b[39;00m\u001b[39mfeature\u001b[39;00m \u001b[39mimport\u001b[39;00m Feature\n\u001b[0;32m----> 8\u001b[0m \u001b[39mfrom\u001b[39;00m \u001b[39maladdin\u001b[39;00m\u001b[39m.\u001b[39;00m\u001b[39mfeature_types\u001b[39;00m \u001b[39mimport\u001b[39;00m FeatureFactory, FeatureReferancable, TransformationFactory\n\u001b[1;32m      9\u001b[0m \u001b[39mfrom\u001b[39;00m \u001b[39maladdin\u001b[39;00m\u001b[39m.\u001b[39;00m\u001b[39mfeature_view\u001b[39;00m\u001b[39m.\u001b[39;00m\u001b[39mfeature_view\u001b[39;00m \u001b[39mimport\u001b[39;00m CompiledFeatureView, FeatureSelectable, FeatureView, FVType\n\u001b[1;32m     10\u001b[0m \u001b[39mfrom\u001b[39;00m \u001b[39maladdin\u001b[39;00m\u001b[39m.\u001b[39;00m\u001b[39mrequest\u001b[39;00m\u001b[39m.\u001b[39;00m\u001b[39mretrival_request\u001b[39;00m \u001b[39mimport\u001b[39;00m FeatureRequest, RetrivalRequest\n",
      "File \u001b[0;32m~/.virtualenvs/feature-store/lib/python3.10/site-packages/aladdin/feature_types.py:12\u001b[0m, in \u001b[0;36m<module>\u001b[0;34m\u001b[0m\n\u001b[1;32m     10\u001b[0m \u001b[39mfrom\u001b[39;00m \u001b[39maladdin\u001b[39;00m\u001b[39m.\u001b[39;00m\u001b[39mfeature\u001b[39;00m \u001b[39mimport\u001b[39;00m EventTimestamp \u001b[39mas\u001b[39;00m EventTimestampFeature\n\u001b[1;32m     11\u001b[0m \u001b[39mfrom\u001b[39;00m \u001b[39maladdin\u001b[39;00m\u001b[39m.\u001b[39;00m\u001b[39mfeature\u001b[39;00m \u001b[39mimport\u001b[39;00m Feature, FeatureReferance, FeatureType\n\u001b[0;32m---> 12\u001b[0m \u001b[39mfrom\u001b[39;00m \u001b[39maladdin\u001b[39;00m\u001b[39m.\u001b[39;00m\u001b[39mfeature_view\u001b[39;00m\u001b[39m.\u001b[39;00m\u001b[39mfeature_view_metadata\u001b[39;00m \u001b[39mimport\u001b[39;00m FeatureViewMetadata\n\u001b[1;32m     13\u001b[0m \u001b[39mfrom\u001b[39;00m \u001b[39maladdin\u001b[39;00m\u001b[39m.\u001b[39;00m\u001b[39mrequest\u001b[39;00m\u001b[39m.\u001b[39;00m\u001b[39mretrival_request\u001b[39;00m \u001b[39mimport\u001b[39;00m RetrivalRequest\n\u001b[1;32m     14\u001b[0m \u001b[39mfrom\u001b[39;00m \u001b[39maladdin\u001b[39;00m\u001b[39m.\u001b[39;00m\u001b[39mtransformation\u001b[39;00m \u001b[39mimport\u001b[39;00m StandardScalingTransformation, Transformation\n",
      "File \u001b[0;32m~/.virtualenvs/feature-store/lib/python3.10/site-packages/aladdin/feature_view/feature_view_metadata.py:9\u001b[0m, in \u001b[0;36m<module>\u001b[0;34m\u001b[0m\n\u001b[1;32m      4\u001b[0m \u001b[39mfrom\u001b[39;00m \u001b[39maladdin\u001b[39;00m\u001b[39m.\u001b[39;00m\u001b[39mdata_source\u001b[39;00m\u001b[39m.\u001b[39;00m\u001b[39mstream_data_source\u001b[39;00m \u001b[39mimport\u001b[39;00m StreamDataSource\n\u001b[1;32m      5\u001b[0m \u001b[39mfrom\u001b[39;00m \u001b[39maladdin\u001b[39;00m\u001b[39m.\u001b[39;00m\u001b[39mfeature_view\u001b[39;00m\u001b[39m.\u001b[39;00m\u001b[39mcompiled_feature_view\u001b[39;00m \u001b[39mimport\u001b[39;00m CompiledFeatureView\n\u001b[1;32m      8\u001b[0m \u001b[39m@dataclass\u001b[39;49m\n\u001b[0;32m----> 9\u001b[0m \u001b[39mclass\u001b[39;49;00m \u001b[39mFeatureViewMetadata\u001b[39;49;00m:\n\u001b[1;32m     10\u001b[0m     name: \u001b[39mstr\u001b[39;49m\n\u001b[1;32m     11\u001b[0m     description: \u001b[39mstr\u001b[39;49m\n",
      "File \u001b[0;32m~/.pyenv/versions/3.10.0/lib/python3.10/dataclasses.py:1178\u001b[0m, in \u001b[0;36mdataclass\u001b[0;34m(cls, init, repr, eq, order, unsafe_hash, frozen, match_args, kw_only, slots)\u001b[0m\n\u001b[1;32m   1175\u001b[0m     \u001b[39mreturn\u001b[39;00m wrap\n\u001b[1;32m   1177\u001b[0m \u001b[39m# We're called as @dataclass without parens.\u001b[39;00m\n\u001b[0;32m-> 1178\u001b[0m \u001b[39mreturn\u001b[39;00m wrap(\u001b[39mcls\u001b[39;49m)\n",
      "File \u001b[0;32m~/.pyenv/versions/3.10.0/lib/python3.10/dataclasses.py:1169\u001b[0m, in \u001b[0;36mdataclass.<locals>.wrap\u001b[0;34m(cls)\u001b[0m\n\u001b[1;32m   1168\u001b[0m \u001b[39mdef\u001b[39;00m \u001b[39mwrap\u001b[39m(\u001b[39mcls\u001b[39m):\n\u001b[0;32m-> 1169\u001b[0m     \u001b[39mreturn\u001b[39;00m _process_class(\u001b[39mcls\u001b[39;49m, init, \u001b[39mrepr\u001b[39;49m, eq, order, unsafe_hash,\n\u001b[1;32m   1170\u001b[0m                           frozen, match_args, kw_only, slots)\n",
      "File \u001b[0;32m~/.pyenv/versions/3.10.0/lib/python3.10/dataclasses.py:950\u001b[0m, in \u001b[0;36m_process_class\u001b[0;34m(cls, init, repr, eq, order, unsafe_hash, frozen, match_args, kw_only, slots)\u001b[0m\n\u001b[1;32m    947\u001b[0m         kw_only \u001b[39m=\u001b[39m \u001b[39mTrue\u001b[39;00m\n\u001b[1;32m    948\u001b[0m     \u001b[39melse\u001b[39;00m:\n\u001b[1;32m    949\u001b[0m         \u001b[39m# Otherwise it's a field of some type.\u001b[39;00m\n\u001b[0;32m--> 950\u001b[0m         cls_fields\u001b[39m.\u001b[39mappend(_get_field(\u001b[39mcls\u001b[39;49m, name, \u001b[39mtype\u001b[39;49m, kw_only))\n\u001b[1;32m    952\u001b[0m \u001b[39mfor\u001b[39;00m f \u001b[39min\u001b[39;00m cls_fields:\n\u001b[1;32m    953\u001b[0m     fields[f\u001b[39m.\u001b[39mname] \u001b[39m=\u001b[39m f\n",
      "File \u001b[0;32m~/.pyenv/versions/3.10.0/lib/python3.10/dataclasses.py:807\u001b[0m, in \u001b[0;36m_get_field\u001b[0;34m(cls, a_name, a_type, default_kw_only)\u001b[0m\n\u001b[1;32m    805\u001b[0m \u001b[39m# For real fields, disallow mutable defaults for known types.\u001b[39;00m\n\u001b[1;32m    806\u001b[0m \u001b[39mif\u001b[39;00m f\u001b[39m.\u001b[39m_field_type \u001b[39mis\u001b[39;00m _FIELD \u001b[39mand\u001b[39;00m \u001b[39misinstance\u001b[39m(f\u001b[39m.\u001b[39mdefault, (\u001b[39mlist\u001b[39m, \u001b[39mdict\u001b[39m, \u001b[39mset\u001b[39m)):\n\u001b[0;32m--> 807\u001b[0m     \u001b[39mraise\u001b[39;00m \u001b[39mValueError\u001b[39;00m(\u001b[39mf\u001b[39m\u001b[39m'\u001b[39m\u001b[39mmutable default \u001b[39m\u001b[39m{\u001b[39;00m\u001b[39mtype\u001b[39m(f\u001b[39m.\u001b[39mdefault)\u001b[39m}\u001b[39;00m\u001b[39m for field \u001b[39m\u001b[39m'\u001b[39m\n\u001b[1;32m    808\u001b[0m                      \u001b[39mf\u001b[39m\u001b[39m'\u001b[39m\u001b[39m{\u001b[39;00mf\u001b[39m.\u001b[39mname\u001b[39m}\u001b[39;00m\u001b[39m is not allowed: use default_factory\u001b[39m\u001b[39m'\u001b[39m)\n\u001b[1;32m    810\u001b[0m \u001b[39mreturn\u001b[39;00m f\n",
      "\u001b[0;31mValueError\u001b[0m: mutable default <class 'dict'> for field tags is not allowed: use default_factory"
     ]
    }
   ],
   "source": [
    "from aladdin import FeatureStore, FileSource"
   ]
  },
  {
   "cell_type": "code",
   "execution_count": null,
   "metadata": {},
   "outputs": [
    {
     "ename": "NameError",
     "evalue": "name 'FileSource' is not defined",
     "output_type": "error",
     "traceback": [
      "\u001b[0;31m---------------------------------------------------------------------------\u001b[0m",
      "\u001b[0;31mNameError\u001b[0m                                 Traceback (most recent call last)",
      "\u001b[1;32m/Users/matsmollestad/Desktop/PersonalProj/aladdin-2.0/example/example.ipynb Cell 3\u001b[0m in \u001b[0;36m<cell line: 2>\u001b[0;34m()\u001b[0m\n\u001b[1;32m      <a href='vscode-notebook-cell:/Users/matsmollestad/Desktop/PersonalProj/aladdin-2.0/example/example.ipynb#ch0000002?line=0'>1</a>\u001b[0m \u001b[39m# The online store, which use the online source\u001b[39;00m\n\u001b[0;32m----> <a href='vscode-notebook-cell:/Users/matsmollestad/Desktop/PersonalProj/aladdin-2.0/example/example.ipynb#ch0000002?line=1'>2</a>\u001b[0m online_store \u001b[39m=\u001b[39m \u001b[39mawait\u001b[39;00m FileSource(\u001b[39m\"\u001b[39m\u001b[39mhttps://raw.githubusercontent.com/otovo/aladdin-example/main/feature-store.json\u001b[39m\u001b[39m\"\u001b[39m, {})\u001b[39m.\u001b[39mfeature_store()\n\u001b[1;32m      <a href='vscode-notebook-cell:/Users/matsmollestad/Desktop/PersonalProj/aladdin-2.0/example/example.ipynb#ch0000002?line=3'>4</a>\u001b[0m \u001b[39m# The offline store, which use the batch sources\u001b[39;00m\n\u001b[1;32m      <a href='vscode-notebook-cell:/Users/matsmollestad/Desktop/PersonalProj/aladdin-2.0/example/example.ipynb#ch0000002?line=4'>5</a>\u001b[0m offline_store \u001b[39m=\u001b[39m online_store\u001b[39m.\u001b[39moffline_store()\n",
      "\u001b[0;31mNameError\u001b[0m: name 'FileSource' is not defined"
     ]
    }
   ],
   "source": [
    "# The online store, which use the online source\n",
    "online_store = await FileSource(\"https://raw.githubusercontent.com/otovo/aladdin-example/main/feature-store.json\", {}).feature_store()\n",
    "\n",
    "# The offline store, which use the batch sources\n",
    "offline_store = online_store.offline_store()"
   ]
  },
  {
   "cell_type": "code",
   "execution_count": null,
   "metadata": {},
   "outputs": [
    {
     "ename": "NameError",
     "evalue": "name 'offline_store' is not defined",
     "output_type": "error",
     "traceback": [
      "\u001b[0;31m---------------------------------------------------------------------------\u001b[0m",
      "\u001b[0;31mNameError\u001b[0m                                 Traceback (most recent call last)",
      "\u001b[1;32m/Users/matsmollestad/Desktop/PersonalProj/aladdin-2.0/example/example.ipynb Cell 4\u001b[0m in \u001b[0;36m<cell line: 2>\u001b[0;34m()\u001b[0m\n\u001b[1;32m      <a href='vscode-notebook-cell:/Users/matsmollestad/Desktop/PersonalProj/aladdin-2.0/example/example.ipynb#ch0000003?line=0'>1</a>\u001b[0m \u001b[39m# The availible feature views / grouped features\u001b[39;00m\n\u001b[0;32m----> <a href='vscode-notebook-cell:/Users/matsmollestad/Desktop/PersonalProj/aladdin-2.0/example/example.ipynb#ch0000003?line=1'>2</a>\u001b[0m \u001b[39mlist\u001b[39m(offline_store\u001b[39m.\u001b[39mfeature_views\u001b[39m.\u001b[39mkeys())\n",
      "\u001b[0;31mNameError\u001b[0m: name 'offline_store' is not defined"
     ]
    }
   ],
   "source": [
    "# The availible feature views / grouped features\n",
    "list(offline_store.feature_views.keys())"
   ]
  },
  {
   "cell_type": "markdown",
   "metadata": {},
   "source": [
    "## Get the dataset\n",
    "\n",
    "A good place to start is to get the raw data in some format.\n",
    "Now the above notebook cell lists the availible feature views, or group of features using other words.\n",
    "\n",
    "We can see that there is two views `breast_scan_raw` and `breast_scan_transformed`.\n",
    "This feature view will contain features, data sources etc. \n",
    "\n",
    "So lets look closer at the `breast_scan_raw` first."
   ]
  },
  {
   "cell_type": "code",
   "execution_count": 1,
   "metadata": {},
   "outputs": [
    {
     "ename": "NameError",
     "evalue": "name 'offline_store' is not defined",
     "output_type": "error",
     "traceback": [
      "\u001b[0;31m---------------------------------------------------------------------------\u001b[0m",
      "\u001b[0;31mNameError\u001b[0m                                 Traceback (most recent call last)",
      "\u001b[1;32m/Users/matsmollestad/Desktop/PersonalProj/aladdin-2.0/example/example.ipynb Cell 6\u001b[0m in \u001b[0;36m<cell line: 1>\u001b[0;34m()\u001b[0m\n\u001b[0;32m----> <a href='vscode-notebook-cell:/Users/matsmollestad/Desktop/PersonalProj/aladdin-2.0/example/example.ipynb#ch0000005?line=0'>1</a>\u001b[0m all_data \u001b[39m=\u001b[39m \u001b[39mawait\u001b[39;00m offline_store\u001b[39m.\u001b[39mfeature_view(\u001b[39m\"\u001b[39m\u001b[39mbreast_scans_raw\u001b[39m\u001b[39m\"\u001b[39m)\u001b[39m.\u001b[39mall()\u001b[39m.\u001b[39mto_df()\n\u001b[1;32m      <a href='vscode-notebook-cell:/Users/matsmollestad/Desktop/PersonalProj/aladdin-2.0/example/example.ipynb#ch0000005?line=1'>2</a>\u001b[0m all_data\n",
      "\u001b[0;31mNameError\u001b[0m: name 'offline_store' is not defined"
     ]
    }
   ],
   "source": [
    "all_data = await offline_store.feature_view(\"breast_scans_raw\").all().to_df()\n",
    "all_data"
   ]
  },
  {
   "cell_type": "markdown",
   "metadata": {},
   "source": [
    "We can see that the data source contains 569 enteries of breast cancer scans, and a whole wide range of metrics.\n",
    "\n",
    "If you want to see all the features in detail, you can go to the `breast_scan_raw.py` file.\n",
    "\n",
    "Now here is where we would do some EDA, and hopefully craft some fancy features. While also select some the feature of interest."
   ]
  },
  {
   "cell_type": "markdown",
   "metadata": {},
   "source": [
    "So after our \"hypothetical\" analysis did we figure out that using the scaled standard diviation is a good feature, and that we selected a subset of the features.\n",
    "And that we stored them in a new feature view `breast_scan_transformed`.\n",
    "\n",
    "Let's have a quick look."
   ]
  },
  {
   "cell_type": "code",
   "execution_count": 5,
   "metadata": {},
   "outputs": [
    {
     "data": {
      "text/html": [
       "<div>\n",
       "<style scoped>\n",
       "    .dataframe tbody tr th:only-of-type {\n",
       "        vertical-align: middle;\n",
       "    }\n",
       "\n",
       "    .dataframe tbody tr th {\n",
       "        vertical-align: top;\n",
       "    }\n",
       "\n",
       "    .dataframe thead th {\n",
       "        text-align: right;\n",
       "    }\n",
       "</style>\n",
       "<table border=\"1\" class=\"dataframe\">\n",
       "  <thead>\n",
       "    <tr style=\"text-align: right;\">\n",
       "      <th></th>\n",
       "      <th>scan_id</th>\n",
       "      <th>diagnosis</th>\n",
       "      <th>radius_mean</th>\n",
       "      <th>texture_mean</th>\n",
       "      <th>perimeter_mean</th>\n",
       "      <th>area_mean</th>\n",
       "      <th>smoothness_mean</th>\n",
       "      <th>compactness_mean</th>\n",
       "      <th>concavity_mean</th>\n",
       "      <th>concave_points_mean</th>\n",
       "      <th>...</th>\n",
       "      <th>concavity_worst</th>\n",
       "      <th>concave_points_worst</th>\n",
       "      <th>symmetry_worst</th>\n",
       "      <th>fractal_dimension_worst</th>\n",
       "      <th>area_mean_scaled</th>\n",
       "      <th>perimeter_mean_scaled</th>\n",
       "      <th>radius_mean_scaled</th>\n",
       "      <th>compactness_mean_scaled</th>\n",
       "      <th>smoothness_mean_scaled</th>\n",
       "      <th>is_malignant</th>\n",
       "    </tr>\n",
       "  </thead>\n",
       "  <tbody>\n",
       "    <tr>\n",
       "      <th>0</th>\n",
       "      <td>842302</td>\n",
       "      <td>M</td>\n",
       "      <td>17.99</td>\n",
       "      <td>10.38</td>\n",
       "      <td>122.80</td>\n",
       "      <td>1001.0</td>\n",
       "      <td>0.11840</td>\n",
       "      <td>0.27760</td>\n",
       "      <td>0.30010</td>\n",
       "      <td>0.14710</td>\n",
       "      <td>...</td>\n",
       "      <td>0.7119</td>\n",
       "      <td>0.2654</td>\n",
       "      <td>0.4601</td>\n",
       "      <td>0.11890</td>\n",
       "      <td>0.983510</td>\n",
       "      <td>1.268817</td>\n",
       "      <td>1.096100</td>\n",
       "      <td>3.280628</td>\n",
       "      <td>1.567087</td>\n",
       "      <td>True</td>\n",
       "    </tr>\n",
       "    <tr>\n",
       "      <th>1</th>\n",
       "      <td>842517</td>\n",
       "      <td>M</td>\n",
       "      <td>20.57</td>\n",
       "      <td>17.77</td>\n",
       "      <td>132.90</td>\n",
       "      <td>1326.0</td>\n",
       "      <td>0.08474</td>\n",
       "      <td>0.07864</td>\n",
       "      <td>0.08690</td>\n",
       "      <td>0.07017</td>\n",
       "      <td>...</td>\n",
       "      <td>0.2416</td>\n",
       "      <td>0.1860</td>\n",
       "      <td>0.2750</td>\n",
       "      <td>0.08902</td>\n",
       "      <td>1.907030</td>\n",
       "      <td>1.684473</td>\n",
       "      <td>1.828212</td>\n",
       "      <td>-0.486643</td>\n",
       "      <td>-0.826235</td>\n",
       "      <td>True</td>\n",
       "    </tr>\n",
       "    <tr>\n",
       "      <th>2</th>\n",
       "      <td>84300903</td>\n",
       "      <td>M</td>\n",
       "      <td>19.69</td>\n",
       "      <td>21.25</td>\n",
       "      <td>130.00</td>\n",
       "      <td>1203.0</td>\n",
       "      <td>0.10960</td>\n",
       "      <td>0.15990</td>\n",
       "      <td>0.19740</td>\n",
       "      <td>0.12790</td>\n",
       "      <td>...</td>\n",
       "      <td>0.4504</td>\n",
       "      <td>0.2430</td>\n",
       "      <td>0.3613</td>\n",
       "      <td>0.08758</td>\n",
       "      <td>1.557513</td>\n",
       "      <td>1.565126</td>\n",
       "      <td>1.578499</td>\n",
       "      <td>1.052000</td>\n",
       "      <td>0.941382</td>\n",
       "      <td>True</td>\n",
       "    </tr>\n",
       "    <tr>\n",
       "      <th>3</th>\n",
       "      <td>84348301</td>\n",
       "      <td>M</td>\n",
       "      <td>11.42</td>\n",
       "      <td>20.38</td>\n",
       "      <td>77.58</td>\n",
       "      <td>386.1</td>\n",
       "      <td>0.14250</td>\n",
       "      <td>0.28390</td>\n",
       "      <td>0.24140</td>\n",
       "      <td>0.10520</td>\n",
       "      <td>...</td>\n",
       "      <td>0.6869</td>\n",
       "      <td>0.2575</td>\n",
       "      <td>0.6638</td>\n",
       "      <td>0.17300</td>\n",
       "      <td>-0.763792</td>\n",
       "      <td>-0.592166</td>\n",
       "      <td>-0.768233</td>\n",
       "      <td>3.399917</td>\n",
       "      <td>3.280667</td>\n",
       "      <td>True</td>\n",
       "    </tr>\n",
       "    <tr>\n",
       "      <th>4</th>\n",
       "      <td>84358402</td>\n",
       "      <td>M</td>\n",
       "      <td>20.29</td>\n",
       "      <td>14.34</td>\n",
       "      <td>135.10</td>\n",
       "      <td>1297.0</td>\n",
       "      <td>0.10030</td>\n",
       "      <td>0.13280</td>\n",
       "      <td>0.19800</td>\n",
       "      <td>0.10430</td>\n",
       "      <td>...</td>\n",
       "      <td>0.4000</td>\n",
       "      <td>0.1625</td>\n",
       "      <td>0.2364</td>\n",
       "      <td>0.07678</td>\n",
       "      <td>1.824624</td>\n",
       "      <td>1.775011</td>\n",
       "      <td>1.748758</td>\n",
       "      <td>0.538866</td>\n",
       "      <td>0.280125</td>\n",
       "      <td>True</td>\n",
       "    </tr>\n",
       "    <tr>\n",
       "      <th>...</th>\n",
       "      <td>...</td>\n",
       "      <td>...</td>\n",
       "      <td>...</td>\n",
       "      <td>...</td>\n",
       "      <td>...</td>\n",
       "      <td>...</td>\n",
       "      <td>...</td>\n",
       "      <td>...</td>\n",
       "      <td>...</td>\n",
       "      <td>...</td>\n",
       "      <td>...</td>\n",
       "      <td>...</td>\n",
       "      <td>...</td>\n",
       "      <td>...</td>\n",
       "      <td>...</td>\n",
       "      <td>...</td>\n",
       "      <td>...</td>\n",
       "      <td>...</td>\n",
       "      <td>...</td>\n",
       "      <td>...</td>\n",
       "      <td>...</td>\n",
       "    </tr>\n",
       "    <tr>\n",
       "      <th>564</th>\n",
       "      <td>926424</td>\n",
       "      <td>M</td>\n",
       "      <td>21.56</td>\n",
       "      <td>22.39</td>\n",
       "      <td>142.00</td>\n",
       "      <td>1479.0</td>\n",
       "      <td>0.11100</td>\n",
       "      <td>0.11590</td>\n",
       "      <td>0.24390</td>\n",
       "      <td>0.13890</td>\n",
       "      <td>...</td>\n",
       "      <td>0.4107</td>\n",
       "      <td>0.2216</td>\n",
       "      <td>0.2060</td>\n",
       "      <td>0.07115</td>\n",
       "      <td>2.341795</td>\n",
       "      <td>2.058974</td>\n",
       "      <td>2.109139</td>\n",
       "      <td>0.218868</td>\n",
       "      <td>1.040926</td>\n",
       "      <td>True</td>\n",
       "    </tr>\n",
       "    <tr>\n",
       "      <th>565</th>\n",
       "      <td>926682</td>\n",
       "      <td>M</td>\n",
       "      <td>20.13</td>\n",
       "      <td>28.25</td>\n",
       "      <td>131.20</td>\n",
       "      <td>1261.0</td>\n",
       "      <td>0.09780</td>\n",
       "      <td>0.10340</td>\n",
       "      <td>0.14400</td>\n",
       "      <td>0.09791</td>\n",
       "      <td>...</td>\n",
       "      <td>0.3215</td>\n",
       "      <td>0.1628</td>\n",
       "      <td>0.2572</td>\n",
       "      <td>0.06637</td>\n",
       "      <td>1.722326</td>\n",
       "      <td>1.614511</td>\n",
       "      <td>1.703356</td>\n",
       "      <td>-0.017817</td>\n",
       "      <td>0.102368</td>\n",
       "      <td>True</td>\n",
       "    </tr>\n",
       "    <tr>\n",
       "      <th>566</th>\n",
       "      <td>926954</td>\n",
       "      <td>M</td>\n",
       "      <td>16.60</td>\n",
       "      <td>28.08</td>\n",
       "      <td>108.30</td>\n",
       "      <td>858.1</td>\n",
       "      <td>0.08455</td>\n",
       "      <td>0.10230</td>\n",
       "      <td>0.09251</td>\n",
       "      <td>0.05302</td>\n",
       "      <td>...</td>\n",
       "      <td>0.3403</td>\n",
       "      <td>0.1418</td>\n",
       "      <td>0.2218</td>\n",
       "      <td>0.07820</td>\n",
       "      <td>0.577445</td>\n",
       "      <td>0.672084</td>\n",
       "      <td>0.701667</td>\n",
       "      <td>-0.038646</td>\n",
       "      <td>-0.839745</td>\n",
       "      <td>True</td>\n",
       "    </tr>\n",
       "    <tr>\n",
       "      <th>567</th>\n",
       "      <td>927241</td>\n",
       "      <td>M</td>\n",
       "      <td>20.60</td>\n",
       "      <td>29.33</td>\n",
       "      <td>140.10</td>\n",
       "      <td>1265.0</td>\n",
       "      <td>0.11780</td>\n",
       "      <td>0.27700</td>\n",
       "      <td>0.35140</td>\n",
       "      <td>0.15200</td>\n",
       "      <td>...</td>\n",
       "      <td>0.9387</td>\n",
       "      <td>0.2650</td>\n",
       "      <td>0.4087</td>\n",
       "      <td>0.12400</td>\n",
       "      <td>1.733693</td>\n",
       "      <td>1.980781</td>\n",
       "      <td>1.836725</td>\n",
       "      <td>3.269267</td>\n",
       "      <td>1.524426</td>\n",
       "      <td>True</td>\n",
       "    </tr>\n",
       "    <tr>\n",
       "      <th>568</th>\n",
       "      <td>92751</td>\n",
       "      <td>B</td>\n",
       "      <td>7.76</td>\n",
       "      <td>24.54</td>\n",
       "      <td>47.92</td>\n",
       "      <td>181.0</td>\n",
       "      <td>0.05263</td>\n",
       "      <td>0.04362</td>\n",
       "      <td>0.00000</td>\n",
       "      <td>0.00000</td>\n",
       "      <td>...</td>\n",
       "      <td>0.0000</td>\n",
       "      <td>0.0000</td>\n",
       "      <td>0.2871</td>\n",
       "      <td>0.07039</td>\n",
       "      <td>-1.346604</td>\n",
       "      <td>-1.812793</td>\n",
       "      <td>-1.806811</td>\n",
       "      <td>-1.149741</td>\n",
       "      <td>-3.109349</td>\n",
       "      <td>False</td>\n",
       "    </tr>\n",
       "  </tbody>\n",
       "</table>\n",
       "<p>569 rows × 38 columns</p>\n",
       "</div>"
      ],
      "text/plain": [
       "      scan_id diagnosis  radius_mean  texture_mean  perimeter_mean  area_mean  \\\n",
       "0      842302         M        17.99         10.38          122.80     1001.0   \n",
       "1      842517         M        20.57         17.77          132.90     1326.0   \n",
       "2    84300903         M        19.69         21.25          130.00     1203.0   \n",
       "3    84348301         M        11.42         20.38           77.58      386.1   \n",
       "4    84358402         M        20.29         14.34          135.10     1297.0   \n",
       "..        ...       ...          ...           ...             ...        ...   \n",
       "564    926424         M        21.56         22.39          142.00     1479.0   \n",
       "565    926682         M        20.13         28.25          131.20     1261.0   \n",
       "566    926954         M        16.60         28.08          108.30      858.1   \n",
       "567    927241         M        20.60         29.33          140.10     1265.0   \n",
       "568     92751         B         7.76         24.54           47.92      181.0   \n",
       "\n",
       "     smoothness_mean  compactness_mean  concavity_mean  concave_points_mean  \\\n",
       "0            0.11840           0.27760         0.30010              0.14710   \n",
       "1            0.08474           0.07864         0.08690              0.07017   \n",
       "2            0.10960           0.15990         0.19740              0.12790   \n",
       "3            0.14250           0.28390         0.24140              0.10520   \n",
       "4            0.10030           0.13280         0.19800              0.10430   \n",
       "..               ...               ...             ...                  ...   \n",
       "564          0.11100           0.11590         0.24390              0.13890   \n",
       "565          0.09780           0.10340         0.14400              0.09791   \n",
       "566          0.08455           0.10230         0.09251              0.05302   \n",
       "567          0.11780           0.27700         0.35140              0.15200   \n",
       "568          0.05263           0.04362         0.00000              0.00000   \n",
       "\n",
       "     ...  concavity_worst  concave_points_worst  symmetry_worst  \\\n",
       "0    ...           0.7119                0.2654          0.4601   \n",
       "1    ...           0.2416                0.1860          0.2750   \n",
       "2    ...           0.4504                0.2430          0.3613   \n",
       "3    ...           0.6869                0.2575          0.6638   \n",
       "4    ...           0.4000                0.1625          0.2364   \n",
       "..   ...              ...                   ...             ...   \n",
       "564  ...           0.4107                0.2216          0.2060   \n",
       "565  ...           0.3215                0.1628          0.2572   \n",
       "566  ...           0.3403                0.1418          0.2218   \n",
       "567  ...           0.9387                0.2650          0.4087   \n",
       "568  ...           0.0000                0.0000          0.2871   \n",
       "\n",
       "     fractal_dimension_worst  area_mean_scaled  perimeter_mean_scaled  \\\n",
       "0                    0.11890          0.983510               1.268817   \n",
       "1                    0.08902          1.907030               1.684473   \n",
       "2                    0.08758          1.557513               1.565126   \n",
       "3                    0.17300         -0.763792              -0.592166   \n",
       "4                    0.07678          1.824624               1.775011   \n",
       "..                       ...               ...                    ...   \n",
       "564                  0.07115          2.341795               2.058974   \n",
       "565                  0.06637          1.722326               1.614511   \n",
       "566                  0.07820          0.577445               0.672084   \n",
       "567                  0.12400          1.733693               1.980781   \n",
       "568                  0.07039         -1.346604              -1.812793   \n",
       "\n",
       "     radius_mean_scaled  compactness_mean_scaled  smoothness_mean_scaled  \\\n",
       "0              1.096100                 3.280628                1.567087   \n",
       "1              1.828212                -0.486643               -0.826235   \n",
       "2              1.578499                 1.052000                0.941382   \n",
       "3             -0.768233                 3.399917                3.280667   \n",
       "4              1.748758                 0.538866                0.280125   \n",
       "..                  ...                      ...                     ...   \n",
       "564            2.109139                 0.218868                1.040926   \n",
       "565            1.703356                -0.017817                0.102368   \n",
       "566            0.701667                -0.038646               -0.839745   \n",
       "567            1.836725                 3.269267                1.524426   \n",
       "568           -1.806811                -1.149741               -3.109349   \n",
       "\n",
       "     is_malignant  \n",
       "0            True  \n",
       "1            True  \n",
       "2            True  \n",
       "3            True  \n",
       "4            True  \n",
       "..            ...  \n",
       "564          True  \n",
       "565          True  \n",
       "566          True  \n",
       "567          True  \n",
       "568         False  \n",
       "\n",
       "[569 rows x 38 columns]"
      ]
     },
     "execution_count": 5,
     "metadata": {},
     "output_type": "execute_result"
    }
   ],
   "source": [
    "new_features = await offline_store.feature_view(\"breast_scans_transformed\").all().to_df()\n",
    "new_features"
   ]
  },
  {
   "cell_type": "markdown",
   "metadata": {},
   "source": [
    "Now we can see that many of the columns are the same, however a lot of them are also new!\n",
    "\n",
    "We have a new `is_malignant` that is a true false value indicating if is good or bad cancer cells, and a lot of standard scaled features like `radius_mean_scaled`.\n",
    "\n",
    "Both  `breast_scan_raw` and `breast_scan_transformed` feature view uses the same source. The interesting thing is that `breast_scan_transformed` transforms the raw values while knowing which features depend on which.\n",
    "Therefore can all transformations be optimized for extra fast computations.\n",
    "\n",
    "A simple example would be `is_malignant`. Where `is_malignant` is dependent on `diagnosis`."
   ]
  },
  {
   "cell_type": "markdown",
   "metadata": {},
   "source": [
    "## Data set generation\n",
    "\n",
    "With our new transformed features would the next natural step be to train a model. However, in order to train a model would we need to select a train, test, and preferably a validation set.\n",
    "\n",
    "This is often done by using `sklearn`, however `aladdin` also provides a similar and flexible way of abstracting our split strategy.\n",
    "The default here is a `StrategicSplitStrategy` which makes sure that the distribution between the differnet classes are equal across train, test and validation.\n",
    "\n",
    "Selecting a train, test, validation set is possible on any data job that is run from our feature store.\n",
    "\n",
    "Let's see how it is done."
   ]
  },
  {
   "cell_type": "code",
   "execution_count": 6,
   "metadata": {},
   "outputs": [
    {
     "name": "stderr",
     "output_type": "stream",
     "text": [
      "/Users/matsmollestad/.virtualenvs/feature-store/lib/python3.10/site-packages/aladdin/split_strategy.py:54: FutureWarning: The frame.append method is deprecated and will be removed from pandas in a future version. Use pandas.concat instead.\n",
      "  train = train.append(split(sub_group, 0, self.train_size_percentage))\n",
      "/Users/matsmollestad/.virtualenvs/feature-store/lib/python3.10/site-packages/aladdin/split_strategy.py:55: FutureWarning: The frame.append method is deprecated and will be removed from pandas in a future version. Use pandas.concat instead.\n",
      "  test = test.append(\n",
      "/Users/matsmollestad/.virtualenvs/feature-store/lib/python3.10/site-packages/aladdin/split_strategy.py:62: FutureWarning: The frame.append method is deprecated and will be removed from pandas in a future version. Use pandas.concat instead.\n",
      "  develop = develop.append(\n",
      "/Users/matsmollestad/.virtualenvs/feature-store/lib/python3.10/site-packages/aladdin/split_strategy.py:54: FutureWarning: The frame.append method is deprecated and will be removed from pandas in a future version. Use pandas.concat instead.\n",
      "  train = train.append(split(sub_group, 0, self.train_size_percentage))\n",
      "/Users/matsmollestad/.virtualenvs/feature-store/lib/python3.10/site-packages/aladdin/split_strategy.py:55: FutureWarning: The frame.append method is deprecated and will be removed from pandas in a future version. Use pandas.concat instead.\n",
      "  test = test.append(\n",
      "/Users/matsmollestad/.virtualenvs/feature-store/lib/python3.10/site-packages/aladdin/split_strategy.py:62: FutureWarning: The frame.append method is deprecated and will be removed from pandas in a future version. Use pandas.concat instead.\n",
      "  develop = develop.append(\n"
     ]
    }
   ],
   "source": [
    "from aladdin.split_strategy import StrategicSplitStrategy\n",
    "\n",
    "train_set = await offline_store.feature_view(\"breast_scans_transformed\")\\\n",
    "    .all(limit=300)\\\n",
    "    .split_with(\n",
    "        # Train + test = 0.9 => validation = 0.1\n",
    "        strategy=StrategicSplitStrategy(\n",
    "            train_size_percentage=0.8,\n",
    "            test_size_percentage=0.1\n",
    "        ),\n",
    "        target_column=\"is_malignant\"\n",
    "    )\\\n",
    "    .use_pandas()"
   ]
  },
  {
   "cell_type": "markdown",
   "metadata": {},
   "source": [
    "The `train_set` do not contains both inputs and targets for train, test, and validation."
   ]
  },
  {
   "cell_type": "code",
   "execution_count": 7,
   "metadata": {},
   "outputs": [
    {
     "data": {
      "text/plain": [
       "(False    0.514644\n",
       " True     0.485356\n",
       " Name: is_malignant, dtype: float64,\n",
       " False    123\n",
       " True     116\n",
       " Name: is_malignant, dtype: int64)"
      ]
     },
     "execution_count": 7,
     "metadata": {},
     "output_type": "execute_result"
    }
   ],
   "source": [
    "# Train Set\n",
    "train_set.train_output.value_counts(normalize=True), train_set.train_output.value_counts()"
   ]
  },
  {
   "cell_type": "code",
   "execution_count": 8,
   "metadata": {},
   "outputs": [
    {
     "data": {
      "text/plain": [
       "(True     0.5\n",
       " False    0.5\n",
       " Name: is_malignant, dtype: float64,\n",
       " True     15\n",
       " False    15\n",
       " Name: is_malignant, dtype: int64)"
      ]
     },
     "execution_count": 8,
     "metadata": {},
     "output_type": "execute_result"
    }
   ],
   "source": [
    "# Test Set\n",
    "train_set.test_output.value_counts(normalize=True), train_set.test_output.value_counts()"
   ]
  },
  {
   "cell_type": "code",
   "execution_count": 9,
   "metadata": {},
   "outputs": [
    {
     "data": {
      "text/plain": [
       "(False    0.516129\n",
       " True     0.483871\n",
       " Name: is_malignant, dtype: float64,\n",
       " False    16\n",
       " True     15\n",
       " Name: is_malignant, dtype: int64)"
      ]
     },
     "execution_count": 9,
     "metadata": {},
     "output_type": "execute_result"
    }
   ],
   "source": [
    "# Validation Set\n",
    "train_set.develop_output.value_counts(normalize=True), train_set.develop_output.value_counts()"
   ]
  },
  {
   "cell_type": "markdown",
   "metadata": {},
   "source": [
    "## Real time data\n",
    "\n",
    "One of the hard problems `aladdin` tries to solve, is keeping all features consistent across offline, and online feature stores.\n",
    "\n",
    "Lets simulate how it could look."
   ]
  },
  {
   "cell_type": "code",
   "execution_count": 10,
   "metadata": {},
   "outputs": [
    {
     "data": {
      "text/plain": [
       "[{'area_mean',\n",
       "  'compactness_mean',\n",
       "  'diagnosis',\n",
       "  'perimeter_mean',\n",
       "  'radius_mean',\n",
       "  'smoothness_mean'}]"
      ]
     },
     "execution_count": 10,
     "metadata": {},
     "output_type": "execute_result"
    }
   ],
   "source": [
    "[req.all_required_feature_names for req in online_store.feature_view(\"breast_scans_transformed\").view.request_all.needed_requests]"
   ]
  },
  {
   "cell_type": "code",
   "execution_count": 11,
   "metadata": {},
   "outputs": [],
   "source": [
    "import os\n",
    "# Set the online redis url\n",
    "os.environ['REDIS_URL'] = \"redis://localhost:6379\""
   ]
  },
  {
   "cell_type": "code",
   "execution_count": 12,
   "metadata": {},
   "outputs": [],
   "source": [
    "await online_store.feature_view(\"breast_scans_transformed\")\\\n",
    "    .write({\n",
    "        'scan_id': [1, 2],\n",
    "        'area_mean': [1005, 1002],\n",
    "        'compactness_mean': [0.23, 0.10],\n",
    "        'perimeter_mean': [78, 90],\n",
    "        'radius_mean': [20, 18],\n",
    "        'smoothness_mean': [0.10, 0.2]\n",
    "    })"
   ]
  },
  {
   "cell_type": "markdown",
   "metadata": {},
   "source": [
    "### Fetch the new values\n",
    "\n",
    "The above code simulated a write to the online database. This can originate from any stream process you want.\n",
    "\n",
    "Either a Kafka stream, or mayby simpler a HTTP POST command.\n",
    "\n",
    "However, there is no value in storing the values if we can't fetch them. \n",
    "\n",
    "So let's get our new values for `scan_id = 1`."
   ]
  },
  {
   "cell_type": "code",
   "execution_count": 13,
   "metadata": {},
   "outputs": [
    {
     "data": {
      "text/html": [
       "<div>\n",
       "<style scoped>\n",
       "    .dataframe tbody tr th:only-of-type {\n",
       "        vertical-align: middle;\n",
       "    }\n",
       "\n",
       "    .dataframe tbody tr th {\n",
       "        vertical-align: top;\n",
       "    }\n",
       "\n",
       "    .dataframe thead th {\n",
       "        text-align: right;\n",
       "    }\n",
       "</style>\n",
       "<table border=\"1\" class=\"dataframe\">\n",
       "  <thead>\n",
       "    <tr style=\"text-align: right;\">\n",
       "      <th></th>\n",
       "      <th>area_mean_scaled</th>\n",
       "      <th>perimeter_mean_scaled</th>\n",
       "      <th>area_mean</th>\n",
       "      <th>radius_mean_scaled</th>\n",
       "      <th>smoothness_mean_scaled</th>\n",
       "      <th>compactness_mean_scaled</th>\n",
       "      <th>radius_mean</th>\n",
       "      <th>compactness_mean</th>\n",
       "      <th>perimeter_mean</th>\n",
       "      <th>scan_id</th>\n",
       "      <th>smoothness_mean</th>\n",
       "    </tr>\n",
       "  </thead>\n",
       "  <tbody>\n",
       "    <tr>\n",
       "      <th>0</th>\n",
       "      <td>0.994876</td>\n",
       "      <td>-0.574881</td>\n",
       "      <td>1005.0</td>\n",
       "      <td>1.666466</td>\n",
       "      <td>0.258794</td>\n",
       "      <td>2.379331</td>\n",
       "      <td>20.0</td>\n",
       "      <td>0.23</td>\n",
       "      <td>78.0</td>\n",
       "      <td>1</td>\n",
       "      <td>0.1</td>\n",
       "    </tr>\n",
       "    <tr>\n",
       "      <th>1</th>\n",
       "      <td>0.986351</td>\n",
       "      <td>-0.081034</td>\n",
       "      <td>1002.0</td>\n",
       "      <td>1.098937</td>\n",
       "      <td>7.369082</td>\n",
       "      <td>-0.082196</td>\n",
       "      <td>18.0</td>\n",
       "      <td>0.10</td>\n",
       "      <td>90.0</td>\n",
       "      <td>2</td>\n",
       "      <td>0.2</td>\n",
       "    </tr>\n",
       "  </tbody>\n",
       "</table>\n",
       "</div>"
      ],
      "text/plain": [
       "   area_mean_scaled  perimeter_mean_scaled  area_mean  radius_mean_scaled  \\\n",
       "0          0.994876              -0.574881     1005.0            1.666466   \n",
       "1          0.986351              -0.081034     1002.0            1.098937   \n",
       "\n",
       "   smoothness_mean_scaled  compactness_mean_scaled  radius_mean  \\\n",
       "0                0.258794                 2.379331         20.0   \n",
       "1                7.369082                -0.082196         18.0   \n",
       "\n",
       "   compactness_mean  perimeter_mean  scan_id  smoothness_mean  \n",
       "0              0.23            78.0        1              0.1  \n",
       "1              0.10            90.0        2              0.2  "
      ]
     },
     "execution_count": 13,
     "metadata": {},
     "output_type": "execute_result"
    }
   ],
   "source": [
    "data_subset = await online_store.features_for({\n",
    "    \"scan_id\": [1, 2]\n",
    "}, features=[\n",
    "    \"breast_scans_transformed:radius_mean\",\n",
    "    \"breast_scans_transformed:radius_mean_scaled\",\n",
    "    \"breast_scans_transformed:perimeter_mean\",\n",
    "    \"breast_scans_transformed:perimeter_mean_scaled\",\n",
    "    \"breast_scans_transformed:area_mean\",\n",
    "    \"breast_scans_transformed:area_mean_scaled\",\n",
    "    \"breast_scans_transformed:compactness_mean\",\n",
    "    \"breast_scans_transformed:compactness_mean_scaled\",\n",
    "    \"breast_scans_transformed:smoothness_mean\",\n",
    "    \"breast_scans_transformed:smoothness_mean_scaled\",\n",
    "]).to_df()\n",
    "data_subset"
   ]
  },
  {
   "cell_type": "markdown",
   "metadata": {},
   "source": [
    "Look at that! We now have our processed values, which is scaled based using a `StandardScaler`, aka the amount of standard diviations from the mean.\n",
    "And we have the original values as reference.\n",
    "All this without implementing a single line of transformation logic our self."
   ]
  },
  {
   "cell_type": "markdown",
   "metadata": {},
   "source": [
    "However, we still have a small problem. As it is kind of painfull writing out all the fetures we want to inclued each time. So how could we make this even simpler?\n",
    "\n",
    "Thats where Model Services come in."
   ]
  },
  {
   "cell_type": "markdown",
   "metadata": {},
   "source": [
    "## Model Service\n"
   ]
  },
  {
   "cell_type": "code",
   "execution_count": 14,
   "metadata": {},
   "outputs": [
    {
     "data": {
      "text/plain": [
       "['breast_cancer_model_v1']"
      ]
     },
     "execution_count": 14,
     "metadata": {},
     "output_type": "execute_result"
    }
   ],
   "source": [
    "online_store.all_models"
   ]
  },
  {
   "cell_type": "code",
   "execution_count": 15,
   "metadata": {},
   "outputs": [
    {
     "data": {
      "text/html": [
       "<div>\n",
       "<style scoped>\n",
       "    .dataframe tbody tr th:only-of-type {\n",
       "        vertical-align: middle;\n",
       "    }\n",
       "\n",
       "    .dataframe tbody tr th {\n",
       "        vertical-align: top;\n",
       "    }\n",
       "\n",
       "    .dataframe thead th {\n",
       "        text-align: right;\n",
       "    }\n",
       "</style>\n",
       "<table border=\"1\" class=\"dataframe\">\n",
       "  <thead>\n",
       "    <tr style=\"text-align: right;\">\n",
       "      <th></th>\n",
       "      <th>area_mean_scaled</th>\n",
       "      <th>smoothness_mean_scaled</th>\n",
       "      <th>compactness_mean_scaled</th>\n",
       "      <th>scan_id</th>\n",
       "      <th>perimeter_mean_scaled</th>\n",
       "      <th>radius_mean_scaled</th>\n",
       "    </tr>\n",
       "  </thead>\n",
       "  <tbody>\n",
       "    <tr>\n",
       "      <th>0</th>\n",
       "      <td>0.994876</td>\n",
       "      <td>0.258794</td>\n",
       "      <td>2.379331</td>\n",
       "      <td>1</td>\n",
       "      <td>-0.574881</td>\n",
       "      <td>1.666466</td>\n",
       "    </tr>\n",
       "    <tr>\n",
       "      <th>1</th>\n",
       "      <td>0.986351</td>\n",
       "      <td>7.369082</td>\n",
       "      <td>-0.082196</td>\n",
       "      <td>2</td>\n",
       "      <td>-0.081034</td>\n",
       "      <td>1.098937</td>\n",
       "    </tr>\n",
       "  </tbody>\n",
       "</table>\n",
       "</div>"
      ],
      "text/plain": [
       "   area_mean_scaled  smoothness_mean_scaled  compactness_mean_scaled  scan_id  \\\n",
       "0          0.994876                0.258794                 2.379331        1   \n",
       "1          0.986351                7.369082                -0.082196        2   \n",
       "\n",
       "   perimeter_mean_scaled  radius_mean_scaled  \n",
       "0              -0.574881            1.666466  \n",
       "1              -0.081034            1.098937  "
      ]
     },
     "execution_count": 15,
     "metadata": {},
     "output_type": "execute_result"
    }
   ],
   "source": [
    "model_data = await online_store.model(\"breast_cancer_model_v1\").features_for({\n",
    "    'scan_id': [1, 2]\n",
    "}).to_df()\n",
    "model_data"
   ]
  },
  {
   "cell_type": "code",
   "execution_count": null,
   "metadata": {},
   "outputs": [],
   "source": []
  }
 ],
 "metadata": {
  "kernelspec": {
   "display_name": "Python 3.10.0 ('feature-store')",
   "language": "python",
   "name": "python3"
  },
  "language_info": {
   "codemirror_mode": {
    "name": "ipython",
    "version": 3
   },
   "file_extension": ".py",
   "mimetype": "text/x-python",
   "name": "python",
   "nbconvert_exporter": "python",
   "pygments_lexer": "ipython3",
   "version": "3.10.0"
  },
  "orig_nbformat": 4,
  "vscode": {
   "interpreter": {
    "hash": "c5bb72e9804bef37216cfcbc8d45d675e66f0b91e86129471912d2a42ccfccb5"
   }
  }
 },
 "nbformat": 4,
 "nbformat_minor": 2
}
